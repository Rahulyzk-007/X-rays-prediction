{
 "cells": [
  {
   "cell_type": "code",
   "execution_count": 2,
   "id": "dde07758",
   "metadata": {},
   "outputs": [],
   "source": [
    "import joblib\n",
    "import pytesseract\n",
    "import cv2\n",
    "import pickle\n",
    "from keras import backend as K\n",
    "import joblib\n",
    "import tensorflow as tf\n",
    "from sklearn.model_selection import train_test_split\n",
    "from tensorflow.keras.preprocessing.sequence import pad_sequences\n",
    "from tensorflow.keras.layers import Conv2D,Flatten,Dense,MaxPool2D,BatchNormalization,GlobalAveragePooling2D\n",
    "from tensorflow.keras.applications.resnet50 import preprocess_input,decode_predictions\n",
    "from tensorflow.keras.preprocessing.image import ImageDataGenerator,load_img\n",
    "from tensorflow.keras.layers import MaxPooling2D\n",
    "from tensorflow.keras import models,layers\n",
    "from tensorflow.keras.preprocessing import image\n",
    "from tensorflow.keras.models import Sequential\n",
    "import matplotlib.pyplot as plt\n",
    "import numpy as np\n",
    "import os\n",
    "import streamlit as st"
   ]
  },
  {
   "cell_type": "code",
   "execution_count": 4,
   "id": "9fb0ec9b",
   "metadata": {},
   "outputs": [],
   "source": [
    "OrganModel=joblib.load('/Users/rahul/Downloads/brain_tumor_dataset/organ_clissification')\n",
    "ChestModel=joblib.load('/Users/rahul/Downloads/brain_tumor_dataset/chestClassification')\n",
    "BrainModel=joblib.load('/Users/rahul/Downloads/brain_tumor_dataset/brain_classification')"
   ]
  },
  {
   "cell_type": "code",
   "execution_count": 14,
   "id": "6261daae",
   "metadata": {},
   "outputs": [],
   "source": [
    "organ_class_indices=['brain','chest']\n",
    "brain_class_indices=['no','yes']\n",
    "chest_class_indices=['no','yes']"
   ]
  },
  {
   "cell_type": "code",
   "execution_count": 17,
   "id": "82b7277f",
   "metadata": {},
   "outputs": [],
   "source": [
    "def preprocess(img):\n",
    "    img=cv2.cvtColor(img,cv2.COLOR_BGR2RGB)\n",
    "    img=cv2.resize(img,(224,224))\n",
    "    print(img.shape)\n",
    "    plt.imshow(img,cmap=plt.cm.binary)\n",
    "\n",
    "    prediction=model.predict(np.array([img])/255)\n",
    "    index=np.argmax(prediction)\n",
    "    print(classes_name[index])"
   ]
  },
  {
   "cell_type": "code",
   "execution_count": 5,
   "id": "32541f3a",
   "metadata": {},
   "outputs": [
    {
     "name": "stderr",
     "output_type": "stream",
     "text": [
      "2024-06-06 14:54:07.089 \n",
      "  \u001b[33m\u001b[1mWarning:\u001b[0m to view this Streamlit app on a browser, run it with the following\n",
      "  command:\n",
      "\n",
      "    streamlit run /Users/rahul/anaconda3/lib/python3.11/site-packages/ipykernel_launcher.py [ARGUMENTS]\n"
     ]
    },
    {
     "data": {
      "text/plain": [
       "DeltaGenerator()"
      ]
     },
     "execution_count": 5,
     "metadata": {},
     "output_type": "execute_result"
    }
   ],
   "source": [
    "st.title(\"DISEASE CLASSIFICATION\")"
   ]
  },
  {
   "cell_type": "code",
   "execution_count": null,
   "id": "322106a8",
   "metadata": {},
   "outputs": [],
   "source": [
    "uploaded_file = st.file_uploader(\"Choose an image...\", type=\"jpg\")"
   ]
  },
  {
   "cell_type": "code",
   "execution_count": null,
   "id": "c7daf088",
   "metadata": {},
   "outputs": [],
   "source": [
    "from PIL import Image"
   ]
  },
  {
   "cell_type": "code",
   "execution_count": null,
   "id": "482a2a63",
   "metadata": {},
   "outputs": [],
   "source": [
    "def load_image_into_cv2(uploaded_file):\n",
    "    # Convert the uploaded file to an OpenCV image\n",
    "    image = Image.open(uploaded_file)\n",
    "    image_array = np.array(image)\n",
    "    image_cv = cv2.cvtColor(image_array, cv2.COLOR_RGB2BGR)\n",
    "    return image_cv"
   ]
  },
  {
   "cell_type": "code",
   "execution_count": 18,
   "id": "e8afb714",
   "metadata": {},
   "outputs": [],
   "source": [
    "def chest_prediction(img):\n",
    "    prediction=ChestModel.predict(np.array([img])/255)\n",
    "    index=np.argmax(prediction)\n",
    "    p1=chest_class_indices[index]\n",
    "    return p1"
   ]
  },
  {
   "cell_type": "code",
   "execution_count": null,
   "id": "c6c83bec",
   "metadata": {},
   "outputs": [],
   "source": [
    "def brain_prediction(img):\n",
    "    prediction=BrainModel.predict(np.array([img])/255)\n",
    "    index=np.argmax(prediction)\n",
    "    p1=brain_class_indices[index]\n",
    "    return p1"
   ]
  },
  {
   "cell_type": "code",
   "execution_count": null,
   "id": "d0eb8faf",
   "metadata": {},
   "outputs": [],
   "source": [
    "if uploaded_file is not None:\n",
    "    \n",
    "    # Load the image into OpenCV format\n",
    "    img = load_image_into_cv2(uploaded_file)\n",
    "    \n",
    "    # Display the uploaded image using Streamlit\n",
    "    st.image(img, caption='Uploaded Image (OpenCV format)', use_column_width=True, channels='BGR')\n",
    "    \n",
    "    img=cv2.cvtColor(img,cv2.COLOR_BGR2RGB)\n",
    "    img=cv2.resize(img,(224,224))\n",
    "    print(img.shape)\n",
    "    plt.imshow(img,cmap=plt.cm.binary)\n",
    "\n",
    "    prediction=OrganModel.predict(np.array([img])/255)\n",
    "    index=np.argmax(prediction)\n",
    "    organP=organ_class_indices[index]\n",
    "\n",
    "    #if the image is a chest image\n",
    "    \n",
    "    if organP=='chest':\n",
    "        p1=chest_prediction(img)\n",
    "        if p1=='no':\n",
    "            p1='no pneumonia'\n",
    "            st.write(f\"Prediction: {p1}\")\n",
    "        else:\n",
    "            p1='penumonia'\n",
    "            st.write(f\"Prediction: {p1}\")\n",
    "\n",
    "    #if the image is a brain image        \n",
    "    \n",
    "    if organP=='brain':\n",
    "        p1=brain_prediction(img)\n",
    "        if p1=='no':\n",
    "            p1='no brain tumour'\n",
    "            st.write(f\"Prediction: {p1}\")\n",
    "        else:\n",
    "            p1='There is brain tumour'\n",
    "            st.write(f\"Prediction: {p1}\")"
   ]
  },
  {
   "cell_type": "code",
   "execution_count": null,
   "id": "494f4ede",
   "metadata": {},
   "outputs": [],
   "source": []
  },
  {
   "cell_type": "code",
   "execution_count": null,
   "id": "fc3d6d07",
   "metadata": {},
   "outputs": [],
   "source": []
  }
 ],
 "metadata": {
  "kernelspec": {
   "display_name": "Python 3 (ipykernel)",
   "language": "python",
   "name": "python3"
  },
  "language_info": {
   "codemirror_mode": {
    "name": "ipython",
    "version": 3
   },
   "file_extension": ".py",
   "mimetype": "text/x-python",
   "name": "python",
   "nbconvert_exporter": "python",
   "pygments_lexer": "ipython3",
   "version": "3.11.5"
  }
 },
 "nbformat": 4,
 "nbformat_minor": 5
}
